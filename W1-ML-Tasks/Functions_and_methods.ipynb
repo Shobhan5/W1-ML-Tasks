{
 "cells": [
  {
   "cell_type": "code",
   "execution_count": 1,
   "id": "b2f65c11-fa60-4f55-9bb4-b36bb0b5a328",
   "metadata": {},
   "outputs": [],
   "source": [
    "def vol(rad):\n",
    "    return (4/3)*3.14*rad**3"
   ]
  },
  {
   "cell_type": "code",
   "execution_count": 2,
   "id": "a9ee60fe-007d-49d6-8b2f-efe3c826d099",
   "metadata": {},
   "outputs": [
    {
     "data": {
      "text/plain": [
       "113.03999999999999"
      ]
     },
     "execution_count": 2,
     "metadata": {},
     "output_type": "execute_result"
    }
   ],
   "source": [
    "vol(3)"
   ]
  },
  {
   "cell_type": "code",
   "execution_count": 3,
   "id": "f08aecf4-3304-41ab-9e46-71a2e31ef659",
   "metadata": {},
   "outputs": [],
   "source": [
    "def ran_check(num,low,high):\n",
    "    if(num in range(low,high+1)):\n",
    "        print(f\"{num} is in the range between {low} and {high}\")\n",
    "    else:\n",
    "        print(f\"{num} is not in the range between {low} and {high}\")"
   ]
  },
  {
   "cell_type": "code",
   "execution_count": 4,
   "id": "954e9da2-0ce7-461f-92d4-7857db27c564",
   "metadata": {},
   "outputs": [
    {
     "name": "stdout",
     "output_type": "stream",
     "text": [
      "10 is not in the range between 4 and 6\n"
     ]
    }
   ],
   "source": [
    "ran_check(10,4,6)"
   ]
  },
  {
   "cell_type": "code",
   "execution_count": 5,
   "id": "72136d25-585d-45f9-840d-cdd48e1b4f4e",
   "metadata": {},
   "outputs": [],
   "source": [
    "def ran_bool(num,low,high):\n",
    "    return num in range(low,high+1)"
   ]
  },
  {
   "cell_type": "code",
   "execution_count": 7,
   "id": "c54ea7fc-dd41-4e71-8693-c76d610e15da",
   "metadata": {},
   "outputs": [],
   "source": [
    "def up_low(s):\n",
    "    up=0\n",
    "    low=0\n",
    "    for c in s:\n",
    "        if(c.isupper()):\n",
    "            up+=1\n",
    "        elif(c.islower()):\n",
    "            low+=1\n",
    "    print(f\"Upper cases :  {up}\")\n",
    "    print(f\"Lower case :  {low}\")"
   ]
  },
  {
   "cell_type": "code",
   "execution_count": 9,
   "id": "94ed2b41-73fd-4201-9fc3-59630b1131f6",
   "metadata": {},
   "outputs": [
    {
     "name": "stdout",
     "output_type": "stream",
     "text": [
      "Upper cases :  1\n",
      "Lower case :  8\n"
     ]
    }
   ],
   "source": [
    "up_low(\"Xaverians\")"
   ]
  },
  {
   "cell_type": "code",
   "execution_count": 10,
   "id": "cd2c4932-1ad2-4a39-ae1d-aba4b60559c4",
   "metadata": {},
   "outputs": [],
   "source": [
    "def unique_list(lst):\n",
    "    l=[]\n",
    "    for e in lst:\n",
    "        if e not in l:\n",
    "            l.append(e)\n",
    "    return l"
   ]
  },
  {
   "cell_type": "code",
   "execution_count": 12,
   "id": "60234dc0-8ca9-4721-8a38-20bfeda8f855",
   "metadata": {},
   "outputs": [
    {
     "data": {
      "text/plain": [
       "[1, 45, 78]"
      ]
     },
     "execution_count": 12,
     "metadata": {},
     "output_type": "execute_result"
    }
   ],
   "source": [
    "unique_list([1,1,45,45,78])"
   ]
  },
  {
   "cell_type": "code",
   "execution_count": 13,
   "id": "cab5f73b-f1d1-417f-a676-3d20b15488f7",
   "metadata": {},
   "outputs": [],
   "source": [
    "def multiply(numbers):  \n",
    "    p=1\n",
    "    for num in numbers:\n",
    "        p*=num\n",
    "    return p"
   ]
  },
  {
   "cell_type": "code",
   "execution_count": 14,
   "id": "8dd402f0-6ca5-43cc-a006-3774bd298100",
   "metadata": {},
   "outputs": [],
   "source": [
    "import string\n",
    "\n",
    "def ispangram(str1, alphabet=string.ascii_lowercase):\n",
    "    for al in alphabet:\n",
    "        if(al not in str1):\n",
    "            return False\n",
    "    return True"
   ]
  },
  {
   "cell_type": "code",
   "execution_count": null,
   "id": "613c43bd-680a-4898-8829-1d900798edf2",
   "metadata": {},
   "outputs": [],
   "source": []
  }
 ],
 "metadata": {
  "kernelspec": {
   "display_name": "Python 3 (ipykernel)",
   "language": "python",
   "name": "python3"
  },
  "language_info": {
   "codemirror_mode": {
    "name": "ipython",
    "version": 3
   },
   "file_extension": ".py",
   "mimetype": "text/x-python",
   "name": "python",
   "nbconvert_exporter": "python",
   "pygments_lexer": "ipython3",
   "version": "3.12.4"
  }
 },
 "nbformat": 4,
 "nbformat_minor": 5
}
