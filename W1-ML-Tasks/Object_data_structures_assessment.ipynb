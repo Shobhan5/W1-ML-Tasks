{
 "cells": [
  {
   "cell_type": "code",
   "execution_count": 1,
   "id": "cbf6a002-b449-4d99-a9fe-041ee662d6d6",
   "metadata": {},
   "outputs": [],
   "source": [
    "import numpy as np"
   ]
  },
  {
   "cell_type": "code",
   "execution_count": 2,
   "id": "81583be1-f8d1-43f4-b691-fe4333501584",
   "metadata": {},
   "outputs": [
    {
     "data": {
      "text/plain": [
       "100"
      ]
     },
     "execution_count": 2,
     "metadata": {},
     "output_type": "execute_result"
    }
   ],
   "source": [
    "np.square(10)"
   ]
  },
  {
   "cell_type": "code",
   "execution_count": 9,
   "id": "03bea7ea-9246-4657-9704-2baab8a443a4",
   "metadata": {},
   "outputs": [
    {
     "data": {
      "text/plain": [
       "100.25"
      ]
     },
     "execution_count": 9,
     "metadata": {},
     "output_type": "execute_result"
    }
   ],
   "source": [
    "((np.square(10)/2*2)+0.25)"
   ]
  },
  {
   "cell_type": "code",
   "execution_count": 12,
   "id": "f9188045-3ff9-419f-bacc-e1ca6ee450a3",
   "metadata": {},
   "outputs": [
    {
     "data": {
      "text/plain": [
       "10.0"
      ]
     },
     "execution_count": 12,
     "metadata": {},
     "output_type": "execute_result"
    }
   ],
   "source": [
    "np.sqrt(100)"
   ]
  },
  {
   "cell_type": "markdown",
   "id": "e743f3af-b60d-400e-a240-9b78ec70faf7",
   "metadata": {},
   "source": [
    "## Output [0,0,0]"
   ]
  },
  {
   "cell_type": "code",
   "execution_count": 13,
   "id": "7a8f9322-d20f-4c1c-a24e-f2aad7f7ba21",
   "metadata": {},
   "outputs": [
    {
     "name": "stdout",
     "output_type": "stream",
     "text": [
      "Method 1: [0, 0, 0]\n",
      "Method 2: [0, 0, 0]\n"
     ]
    }
   ],
   "source": [
    "# Method 1: Using List Multiplication\n",
    "list1 = [0] * 3\n",
    "print(\"Method 1:\", list1)  \n",
    "\n",
    "# Method 2: Using List Comprehensio\n",
    "list2 = [0 for _ in range(3)]\n",
    "print(\"Method 2:\", list2)  \n"
   ]
  },
  {
   "cell_type": "code",
   "execution_count": 14,
   "id": "7fcafaa3-f388-4ec6-9ac2-d72cd250e563",
   "metadata": {},
   "outputs": [
    {
     "name": "stdout",
     "output_type": "stream",
     "text": [
      "hello\n"
     ]
    }
   ],
   "source": [
    "\n",
    "d = {'simple_key': 'hello'}\n",
    "value = d['simple_key']\n",
    "print(value) \n"
   ]
  },
  {
   "cell_type": "code",
   "execution_count": 23,
   "id": "68726afd-3a07-402a-ac8d-87faead54bc4",
   "metadata": {},
   "outputs": [
    {
     "data": {
      "text/plain": [
       "'hello'"
      ]
     },
     "execution_count": 23,
     "metadata": {},
     "output_type": "execute_result"
    }
   ],
   "source": [
    "d = {'k1':{'k2':'hello'}}\n",
    "# Grab 'hello'\n",
    "val = d['k1']['k2']\n",
    "val"
   ]
  },
  {
   "cell_type": "code",
   "execution_count": 24,
   "id": "b0d498d2-e679-43fd-a9ed-5897c39b435d",
   "metadata": {},
   "outputs": [
    {
     "name": "stdout",
     "output_type": "stream",
     "text": [
      "hello\n"
     ]
    }
   ],
   "source": [
    "\n",
    "d = {'k1': [{'nest_key': ['this is deep', ['hello']]}]}\n",
    "\n",
    "value = d['k1'][0]['nest_key'][1][0]\n",
    "\n",
    "print(value) \n"
   ]
  },
  {
   "cell_type": "code",
   "execution_count": 25,
   "id": "945f6678-9868-45c5-a2b9-f1023f8b5eb5",
   "metadata": {},
   "outputs": [
    {
     "name": "stdout",
     "output_type": "stream",
     "text": [
      "hello\n"
     ]
    }
   ],
   "source": [
    "d = {'k1': [1, 2, {'k2': ['this is tricky', {'tough': [1, 2, ['hello']]}]}]}\n",
    "value = d['k1'][2]['k2'][1]['tough'][2][0]\n",
    "print(value)\n"
   ]
  },
  {
   "cell_type": "code",
   "execution_count": 28,
   "id": "03465670-1a50-4a4a-894b-652e2eb6103b",
   "metadata": {},
   "outputs": [
    {
     "data": {
      "text/plain": [
       "{1, 2, 3, 4, 11, 22, 33}"
      ]
     },
     "execution_count": 28,
     "metadata": {},
     "output_type": "execute_result"
    }
   ],
   "source": [
    "list5 = [1,2,2,33,4,4,11,22,3,3,2]\n",
    "set(list5)"
   ]
  },
  {
   "cell_type": "code",
   "execution_count": 29,
   "id": "d59be171-52e8-4a17-b3ed-4ce0f0347aee",
   "metadata": {},
   "outputs": [
    {
     "name": "stdout",
     "output_type": "stream",
     "text": [
      "523.5987755982989\n"
     ]
    }
   ],
   "source": [
    "import math\n",
    "\n",
    "def sphere_volume(radius):\n",
    "    volume = (4/3) * math.pi * (radius**3)\n",
    "    return volume\n",
    "    \n",
    "r = 5  \n",
    "volume = sphere_volume(r)\n",
    "print(volume)\n"
   ]
  },
  {
   "cell_type": "code",
   "execution_count": 30,
   "id": "afba629e-e22c-4eb4-83ce-3fd7c37f71ea",
   "metadata": {},
   "outputs": [
    {
     "name": "stdout",
     "output_type": "stream",
     "text": [
      "Is 5 in the range 1 to 10? True\n"
     ]
    }
   ],
   "source": [
    "def is_in_range(number, low, high):\n",
    "    return low <= number <= high\n",
    "\n",
    "\n",
    "num = 5\n",
    "low = 1\n",
    "high = 10\n",
    "result = is_in_range(num, low, high)\n",
    "print(f\"Is {num} in the range {low} to {high}? {result}\")\n"
   ]
  },
  {
   "cell_type": "code",
   "execution_count": null,
   "id": "6090cc03-f84b-47d2-aa8c-8e637e6fc720",
   "metadata": {},
   "outputs": [],
   "source": []
  }
 ],
 "metadata": {
  "kernelspec": {
   "display_name": "Python 3 (ipykernel)",
   "language": "python",
   "name": "python3"
  },
  "language_info": {
   "codemirror_mode": {
    "name": "ipython",
    "version": 3
   },
   "file_extension": ".py",
   "mimetype": "text/x-python",
   "name": "python",
   "nbconvert_exporter": "python",
   "pygments_lexer": "ipython3",
   "version": "3.12.4"
  }
 },
 "nbformat": 4,
 "nbformat_minor": 5
}
